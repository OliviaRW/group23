{
 "cells": [
  {
   "cell_type": "markdown",
   "metadata": {},
   "source": [
    "# Constructing the bag-of-words\n"
   ]
  },
  {
   "cell_type": "code",
   "execution_count": 21,
   "metadata": {},
   "outputs": [],
   "source": [
    "import csv \n",
    "import numpy as np\n",
    "import pandas as pd"
   ]
  },
  {
   "cell_type": "code",
   "execution_count": 58,
   "metadata": {},
   "outputs": [
    {
     "data": {
      "text/html": [
       "<div>\n",
       "<style scoped>\n",
       "    .dataframe tbody tr th:only-of-type {\n",
       "        vertical-align: middle;\n",
       "    }\n",
       "\n",
       "    .dataframe tbody tr th {\n",
       "        vertical-align: top;\n",
       "    }\n",
       "\n",
       "    .dataframe thead th {\n",
       "        text-align: right;\n",
       "    }\n",
       "</style>\n",
       "<table border=\"1\" class=\"dataframe\">\n",
       "  <thead>\n",
       "    <tr style=\"text-align: right;\">\n",
       "      <th></th>\n",
       "      <th>Publish date</th>\n",
       "      <th>Text</th>\n",
       "      <th>Title</th>\n",
       "      <th>URL</th>\n",
       "      <th>Date month</th>\n",
       "    </tr>\n",
       "  </thead>\n",
       "  <tbody>\n",
       "    <tr>\n",
       "      <th>0</th>\n",
       "      <td>2013-06-06 21:14:35+00:00</td>\n",
       "      <td>Den mexicanske hær har befriet 165 migranter, ...</td>\n",
       "      <td>Mexicansk hær befrier 165 migranter</td>\n",
       "      <td>http://dr.dk/nyheder/udland/mexicansk-haer-bef...</td>\n",
       "      <td>2013-06</td>\n",
       "    </tr>\n",
       "    <tr>\n",
       "      <th>1</th>\n",
       "      <td>2013-04-11 20:30:00+00:00</td>\n",
       "      <td>Italienske kystvagter udrettede torsdag noget ...</td>\n",
       "      <td>Italien: Kystvagter redder 500 afrikanske migr...</td>\n",
       "      <td>http://dr.dk/nyheder/udland/italien-kystvagter...</td>\n",
       "      <td>2013-04</td>\n",
       "    </tr>\n",
       "    <tr>\n",
       "      <th>2</th>\n",
       "      <td>2012-10-08 13:03:00+00:00</td>\n",
       "      <td>Politiet i Københavns Lufthavn lader mange ill...</td>\n",
       "      <td>Blad: Politi lader illegale passere</td>\n",
       "      <td>http://dr.dk/nyheder/indland/blad-politi-lader...</td>\n",
       "      <td>2012-10</td>\n",
       "    </tr>\n",
       "    <tr>\n",
       "      <th>3</th>\n",
       "      <td>2013-10-04 05:05:00+00:00</td>\n",
       "      <td>Det store antal døde afrikanske asylsøgere ud ...</td>\n",
       "      <td>Bådkatastrofe sætter spot på flygtningeproblem</td>\n",
       "      <td>http://dr.dk/nyheder/udland/baadkatastrofe-sae...</td>\n",
       "      <td>2013-10</td>\n",
       "    </tr>\n",
       "    <tr>\n",
       "      <th>4</th>\n",
       "      <td>2012-01-31 22:35:00+00:00</td>\n",
       "      <td>Håbet om en bedre fremtid fik en dødelig udgan...</td>\n",
       "      <td>1500 døde på vej til Europa sidste år</td>\n",
       "      <td>http://dr.dk/nyheder/udland/1500-doede-paa-vej...</td>\n",
       "      <td>2012-01</td>\n",
       "    </tr>\n",
       "  </tbody>\n",
       "</table>\n",
       "</div>"
      ],
      "text/plain": [
       "                Publish date  \\\n",
       "0  2013-06-06 21:14:35+00:00   \n",
       "1  2013-04-11 20:30:00+00:00   \n",
       "2  2012-10-08 13:03:00+00:00   \n",
       "3  2013-10-04 05:05:00+00:00   \n",
       "4  2012-01-31 22:35:00+00:00   \n",
       "\n",
       "                                                Text  \\\n",
       "0  Den mexicanske hær har befriet 165 migranter, ...   \n",
       "1  Italienske kystvagter udrettede torsdag noget ...   \n",
       "2  Politiet i Københavns Lufthavn lader mange ill...   \n",
       "3  Det store antal døde afrikanske asylsøgere ud ...   \n",
       "4  Håbet om en bedre fremtid fik en dødelig udgan...   \n",
       "\n",
       "                                               Title  \\\n",
       "0                Mexicansk hær befrier 165 migranter   \n",
       "1  Italien: Kystvagter redder 500 afrikanske migr...   \n",
       "2                Blad: Politi lader illegale passere   \n",
       "3     Bådkatastrofe sætter spot på flygtningeproblem   \n",
       "4              1500 døde på vej til Europa sidste år   \n",
       "\n",
       "                                                 URL Date month  \n",
       "0  http://dr.dk/nyheder/udland/mexicansk-haer-bef...    2013-06  \n",
       "1  http://dr.dk/nyheder/udland/italien-kystvagter...    2013-04  \n",
       "2  http://dr.dk/nyheder/indland/blad-politi-lader...    2012-10  \n",
       "3  http://dr.dk/nyheder/udland/baadkatastrofe-sae...    2013-10  \n",
       "4  http://dr.dk/nyheder/udland/1500-doede-paa-vej...    2012-01  "
      ]
     },
     "execution_count": 58,
     "metadata": {},
     "output_type": "execute_result"
    }
   ],
   "source": [
    "dr_data = pd.read_csv('dr_frequent_articles.csv', sep = ',')\n",
    "dr_data.head()"
   ]
  },
  {
   "cell_type": "code",
   "execution_count": 59,
   "metadata": {},
   "outputs": [],
   "source": [
    "from sklearn.feature_extraction.text import CountVectorizer\n",
    "from sklearn.decomposition import LatentDirichletAllocation"
   ]
  },
  {
   "cell_type": "code",
   "execution_count": 80,
   "metadata": {},
   "outputs": [],
   "source": [
    "# construct the vocabolary of the bag-of-words\n",
    "count = CountVectorizer(max_df=.10, max_features = 500)\n",
    "X = count.fit_transform(dr_data['Text'].values)"
   ]
  },
  {
   "cell_type": "code",
   "execution_count": 81,
   "metadata": {},
   "outputs": [
    {
     "name": "stderr",
     "output_type": "stream",
     "text": [
      "/anaconda3/lib/python3.7/site-packages/sklearn/decomposition/online_lda.py:314: DeprecationWarning: n_topics has been renamed to n_components in version 0.19 and will be removed in 0.21\n",
      "  DeprecationWarning)\n"
     ]
    }
   ],
   "source": [
    "# define number of topics and method for setting up the lda model\n",
    "lda = LatentDirichletAllocation(n_topics=10, random_state=123, learning_method='batch')\n",
    "X_topics = lda.fit_transform(X)"
   ]
  },
  {
   "cell_type": "code",
   "execution_count": 82,
   "metadata": {},
   "outputs": [
    {
     "name": "stdout",
     "output_type": "stream",
     "text": [
      "Topic 1:\n",
      "unge min røde kors liv\n",
      "Topic 2:\n",
      "partiet parti valg kvoteflygtninge stemme\n",
      "Topic 3:\n",
      "støjberg inger schmidt integrationsminister thorning\n",
      "Topic 4:\n",
      "italien middelhavet libyen italienske migranterne\n",
      "Topic 5:\n",
      "usa trump amerikanske præsident donald\n",
      "Topic 6:\n",
      "flygtningehjælp rapporten udlændingestyrelsen eritrea irak\n",
      "Topic 7:\n",
      "løkke lars martin rasmussen mette\n",
      "Topic 8:\n",
      "kommune kommunerne kommuner sverige job\n",
      "Topic 9:\n",
      "tyrkiet tyske grækenland merkel ungarn\n",
      "Topic 10:\n",
      "afviste opholdstilladelse midlertidig ophold familiesammenføring\n"
     ]
    }
   ],
   "source": [
    "# print the top five words of each of the 10 categories\n",
    "n_top_words = 5\n",
    "feature_names = count.get_feature_names()\n",
    "for topic_idx, topic in enumerate(lda.components_):\n",
    "    print(\"Topic %d:\" % (topic_idx + 1))\n",
    "    print(\" \".join([feature_names[i]\n",
    "                    for i in topic.argsort()\\\n",
    "                    [:-n_top_words - 1:-1]]))"
   ]
  },
  {
   "cell_type": "code",
   "execution_count": 84,
   "metadata": {},
   "outputs": [
    {
     "name": "stdout",
     "output_type": "stream",
     "text": [
      "\n",
      "Municipalities #1:\n",
      "Flere flygtninge skal ud og lave mad på et plejehjem, passe børn eller i andet arbejde. Det mener en række af landets kommuner, der derfor har ansat en integrations-og beskæftigelsesambassadør, der skal sikre, at især flere kvindelige og unge flygtninge kommer i job. Allerød Kommune: 1.769.954 kr. V ...\n",
      "\n",
      "Municipalities #2:\n",
      "I dag er der 493.468 - i 2060 vil der være 867.258 ikke-vestlige indvandrere eller efterkommere, viser en ny fremskrivning fra Danmarks Statistik. Det skaber en række udfordringer, fordi denne befolkningsgruppe i øjeblikket halter efter personer med dansk oprindelse, når det eksempelvis handler om b ...\n",
      "\n",
      "Municipalities #3:\n",
      "Tirsdag fordelte Social-og Indenrigsministeriet de 325 millioner kroner, som kommunerne får i tilskud til at modtage og integrere flygtninge i 2016. Men tilskuddet vækker ærgrelse i Odense, der i alt modtager 9,7 millioner kroner. Fire millioner kroner af tilskuddet er nemlig øremærket til at invest ...\n"
     ]
    }
   ],
   "source": [
    "# check that the category municipality is relevant for three random articles\n",
    "Municipalities = X_topics[:, 7].argsort()[::-1]\n",
    "for iter_idx, movie_idx in enumerate(Municipalities[:3]):\n",
    "    print('\\nMunicipalities #%d:' % (iter_idx + 1))\n",
    "    print(dr_data['Text'][movie_idx][:300], '...')"
   ]
  },
  {
   "cell_type": "code",
   "execution_count": null,
   "metadata": {},
   "outputs": [],
   "source": []
  }
 ],
 "metadata": {
  "kernelspec": {
   "display_name": "Python 3",
   "language": "python",
   "name": "python3"
  },
  "language_info": {
   "codemirror_mode": {
    "name": "ipython",
    "version": 3
   },
   "file_extension": ".py",
   "mimetype": "text/x-python",
   "name": "python",
   "nbconvert_exporter": "python",
   "pygments_lexer": "ipython3",
   "version": "3.7.3"
  }
 },
 "nbformat": 4,
 "nbformat_minor": 2
}
